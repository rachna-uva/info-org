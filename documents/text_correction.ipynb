{
 "cells": [
  {
   "cell_type": "code",
   "execution_count": 39,
   "id": "f2951d14",
   "metadata": {},
   "outputs": [],
   "source": [
    "import json"
   ]
  },
  {
   "cell_type": "code",
   "execution_count": 40,
   "id": "50315204",
   "metadata": {},
   "outputs": [],
   "source": [
    "def format_processing_method(method):\n",
    "    \"\"\"Format processing method strings\"\"\"\n",
    "    mapping = {\n",
    "        \"WashedWet\": \"Washed/Wet\",\n",
    "        \"NaturalDry\": \"Natural/Dry\",\n",
    "        \"PulpedNaturalHoney\": \"Pulped/Natural/Honey\",\n",
    "        \"SemiWashed\": \"Semi-Washed\",\n",
    "        \"OtherProcessing\": \"Other Processing\"\n",
    "    }\n",
    "    return mapping.get(method, method)"
   ]
  },
  {
   "cell_type": "code",
   "execution_count": 41,
   "id": "fd96fd6d",
   "metadata": {},
   "outputs": [],
   "source": [
    "def format_quality_tier(quality):\n",
    "    \"\"\"Format quality tier strings\"\"\"\n",
    "    mapping = {\n",
    "        \"EliteGrade\": \"Elite Grade\",\n",
    "        \"PremiumGrade\": \"Premium Grade\",\n",
    "        \"SpecialtyGrade\": \"Specialty Grade\",\n",
    "        \"BelowSpecialtyGrade\": \"Below Specialty Grade\"\n",
    "    }\n",
    "    return mapping.get(quality, quality)"
   ]
  },
  {
   "cell_type": "code",
   "execution_count": 42,
   "id": "9d2149e3",
   "metadata": {},
   "outputs": [],
   "source": [
    "def format_brewing_method(method):\n",
    "    \"\"\"Format brewing recommendation strings\"\"\"\n",
    "    mapping = {\n",
    "        \"PourOverBrewing\": \"Pour-over Brewing\",\n",
    "        \"AeropressBrewing\": \"Aeropress Brewing\",\n",
    "        \"FrenchPressBrewing\": \"French Press Brewing\",\n",
    "        \"Nospecificrecommendation\": \"No Recommendation\",\n",
    "        \"ColdBrewBrewing\": \"Cold Brew Brewing\"\n",
    "    }\n",
    "    return mapping.get(method, method)"
   ]
  },
  {
   "cell_type": "code",
   "execution_count": 43,
   "id": "63315605",
   "metadata": {},
   "outputs": [],
   "source": [
    "def format_country(country):\n",
    "    \"\"\"Format brewing recommendation strings\"\"\"\n",
    "    mapping = {\n",
    "        \"UnitedStates\": \"United States\",\n",
    "        \"UnitedStatesHawaii\": \"Hawaii\",\n",
    "        \"CostaRica\": \"Costa Rica\",\n",
    "        \"PapuaNewGuinea\": \"Papua New Guinea\",\n",
    "        \"ElSalvador\": \"El Salvador\",\n",
    "        \"UnitedStatesPuertoRico\": \"Puerto Rico\",\n",
    "        \"IvoryCoast\": \"Ivory Coast\"\n",
    "    }\n",
    "    return mapping.get(country, country)"
   ]
  },
  {
   "cell_type": "code",
   "execution_count": 44,
   "id": "4e91649f",
   "metadata": {},
   "outputs": [],
   "source": [
    "\n",
    "def process_coffee_data(coffee_lots):\n",
    "    \"\"\"Process the coffee lots data and format the strings\"\"\"\n",
    "    processed_lots = []\n",
    "    \n",
    "    # Countries that need formatting\n",
    "    countries_to_format = {\n",
    "        \"UnitedStates\", \"UnitedStatesHawaii\", \"CostaRica\", \n",
    "        \"PapuaNewGuinea\", \"ElSalvador\", \"UnitedStatesPuertoRico\", \"IvoryCoast\"\n",
    "    }\n",
    "    \n",
    "    for lot in coffee_lots:\n",
    "        # Create a copy of the lot to avoid modifying the original\n",
    "        processed_lot = lot.copy()\n",
    "        \n",
    "        # Format processing method\n",
    "        if \"processingMethod\" in processed_lot:\n",
    "            processed_lot[\"processingMethod\"] = format_processing_method(processed_lot[\"processingMethod\"])\n",
    "        \n",
    "        # Format quality tier\n",
    "        if \"qualityTier\" in processed_lot:\n",
    "            processed_lot[\"qualityTier\"] = format_quality_tier(processed_lot[\"qualityTier\"])\n",
    "        \n",
    "        # Format brewing recommendations\n",
    "        if \"brewingRecommendations\" in processed_lot:\n",
    "            processed_lot[\"brewingRecommendations\"] = [\n",
    "                format_brewing_method(method) for method in processed_lot[\"brewingRecommendations\"]\n",
    "            ]\n",
    "            \n",
    "        # Format country\n",
    "        if \"country\" in processed_lot:\n",
    "            country_value = processed_lot[\"country\"]         \n",
    "            # Only format if the country is in our list of countries to format\n",
    "            if country_value in countries_to_format:\n",
    "                processed_lot[\"country\"] = format_country(country_value)\n",
    "        \n",
    "        processed_lots.append(processed_lot)\n",
    "    \n",
    "    return processed_lots"
   ]
  },
  {
   "cell_type": "code",
   "execution_count": 45,
   "id": "cb1beec1",
   "metadata": {},
   "outputs": [],
   "source": [
    "def main():\n",
    "    input_filename = \"coffee_data_old.json\"\n",
    "    output_filename = \"coffee_data.json\"\n",
    "    \n",
    "    try:\n",
    "        # Load the JSON data from file\n",
    "        with open(input_filename, 'r') as f:\n",
    "            data = json.load(f)\n",
    "        \n",
    "        print(f\"Successfully loaded data from {input_filename}\")\n",
    "        \n",
    "        # Process the data\n",
    "        if \"coffeeLots\" in data:\n",
    "            processed_coffee_lots = process_coffee_data(data[\"coffeeLots\"])\n",
    "            processed_data = {\"coffeeLots\": processed_coffee_lots}\n",
    "        else:\n",
    "            # If the structure is different, process the entire data\n",
    "            processed_data = process_coffee_data(data)\n",
    "        \n",
    "        # Save the processed data to a new file\n",
    "        with open(output_filename, 'w') as f:\n",
    "            json.dump(processed_data, f, indent=2)\n",
    "        \n",
    "        print(f\"Successfully saved processed data to {output_filename}\")\n",
    "        \n",
    "    except FileNotFoundError:\n",
    "        print(f\"Error: File '{input_filename}' not found.\")\n",
    "        print(\"Please make sure the file exists in the same directory as this script.\")\n",
    "    except json.JSONDecodeError:\n",
    "        print(f\"Error: Invalid JSON in file '{input_filename}'.\")\n",
    "    except Exception as e:\n",
    "        print(f\"An unexpected error occurred: {e}\")"
   ]
  },
  {
   "cell_type": "code",
   "execution_count": 46,
   "id": "b0d9639b",
   "metadata": {},
   "outputs": [
    {
     "name": "stdout",
     "output_type": "stream",
     "text": [
      "Successfully loaded data from coffee_data_old.json\n",
      "Successfully saved processed data to coffee_data.json\n"
     ]
    }
   ],
   "source": [
    "if __name__ == \"__main__\":\n",
    "    main()"
   ]
  }
 ],
 "metadata": {
  "kernelspec": {
   "display_name": "Python 3",
   "language": "python",
   "name": "python3"
  },
  "language_info": {
   "codemirror_mode": {
    "name": "ipython",
    "version": 3
   },
   "file_extension": ".py",
   "mimetype": "text/x-python",
   "name": "python",
   "nbconvert_exporter": "python",
   "pygments_lexer": "ipython3",
   "version": "3.10.10"
  }
 },
 "nbformat": 4,
 "nbformat_minor": 5
}
