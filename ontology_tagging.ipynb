{
 "cells": [
  {
   "cell_type": "markdown",
   "id": "e60f47f1",
   "metadata": {},
   "source": [
    "* Import all necessary libraries."
   ]
  },
  {
   "cell_type": "code",
   "execution_count": 1,
   "id": "8389fb80",
   "metadata": {},
   "outputs": [],
   "source": [
    "import pandas as pd"
   ]
  },
  {
   "cell_type": "markdown",
   "id": "8c0e26b0",
   "metadata": {},
   "source": [
    "* Read the CSV file."
   ]
  },
  {
   "cell_type": "code",
   "execution_count": 2,
   "id": "ba201a67",
   "metadata": {},
   "outputs": [],
   "source": [
    "df = pd.read_csv('data/ontology_merged_data_cleaned.csv')"
   ]
  },
  {
   "cell_type": "markdown",
   "id": "33595478",
   "metadata": {},
   "source": [
    "* Function to determine quality tier based on total cup points."
   ]
  },
  {
   "cell_type": "code",
   "execution_count": 3,
   "id": "32f667cd",
   "metadata": {},
   "outputs": [],
   "source": [
    "def get_quality_tier(total_points):\n",
    "    \n",
    "    # Rule 1: If totalCupPoints < 80, then qualityTier = BelowSpecialtyGrade\n",
    "    if total_points <80:\n",
    "        return \"Below Specialty Grade\"\n",
    "    \n",
    "    # Rule 2: If totalCupPoints >= 80 and <85, then qualityTier = SpecialtyGrade\n",
    "    elif total_points < 85:\n",
    "        return \"Specialty Grade\"\n",
    "    \n",
    "    # Rule 3: If totalCupPoints >= 85 and <90, then qualityTier = PremiumGrade  \n",
    "    elif total_points < 90:\n",
    "        return \"Premium Grade\"\n",
    "    \n",
    "    # Rule 4: If totalCupPoints >= 90, then qualityTier = EliteGrade\n",
    "    else:\n",
    "        return \"Elite Grade\""
   ]
  },
  {
   "cell_type": "markdown",
   "id": "8d8317c9",
   "metadata": {},
   "source": [
    "* Function to determine brewing recommendations based on coffee characteristics."
   ]
  },
  {
   "cell_type": "code",
   "execution_count": 4,
   "id": "06ffb09d",
   "metadata": {},
   "outputs": [],
   "source": [
    "def get_brewing_recommendations(row):\n",
    "    recommendations = []\n",
    "    \n",
    "    # Rule 5: If coffee has acidity > 8.0 and processing = washed, then recommend pour over\n",
    "    if row['Acidity'] > 8.0 and ('Washed' in row['Processing_Method'] or 'Wet' in row['Processing_Method']):\n",
    "        recommendations.append(\"Pour Over Brewing\")\n",
    "    \n",
    "    # Rule 6: If coffee has body > 8.0 and processing = natural, then recommend french press\n",
    "    if row['Body'] > 8.0 and ('Natural' in row['Processing_Method'] or 'Dry' in row['Processing_Method']):\n",
    "        recommendations.append(\"French Press Brewing\")\n",
    "    \n",
    "    # Rule 7: If coffee is sweet and aromatic, then recommend aeropress\n",
    "    if row['Sweetness'] >= 8.0 and row['Aroma'] >= 8.0:\n",
    "        recommendations.append(\"Aeropress Brewing\")\n",
    "    \n",
    "    # Rule 8: If coffee has high sweetness and low acidity, then recommend cold brew\n",
    "    if row['Sweetness'] >= 8.0 and row['Acidity'] <= 7.5:\n",
    "        recommendations.append(\"Cold Brew Brewing\")\n",
    "    \n",
    "    return \"; \".join(recommendations) if recommendations else \"No specific recommendation\""
   ]
  },
  {
   "cell_type": "markdown",
   "id": "984ba52a",
   "metadata": {},
   "source": [
    "* Apply the functions to create new columns."
   ]
  },
  {
   "cell_type": "code",
   "execution_count": 5,
   "id": "7dac8942",
   "metadata": {},
   "outputs": [],
   "source": [
    "df['QualityTier'] = df['Total_Cup_Points'].apply(get_quality_tier)\n",
    "df['BrewingRecommendations'] = df.apply(get_brewing_recommendations, axis=1)"
   ]
  },
  {
   "cell_type": "markdown",
   "id": "aba2afdd",
   "metadata": {},
   "source": [
    "* Create new column order and save to a new df."
   ]
  },
  {
   "cell_type": "code",
   "execution_count": 6,
   "id": "6530cd66",
   "metadata": {},
   "outputs": [],
   "source": [
    "original_columns = list(df.columns)\n",
    "ontology_columns = ['QualityTier', 'BrewingRecommendations']\n",
    "new_column_order = original_columns + ontology_columns\n",
    "df = df[new_column_order]"
   ]
  },
  {
   "cell_type": "markdown",
   "id": "c24bbd58",
   "metadata": {},
   "source": [
    "* Save the enhanced dataset."
   ]
  },
  {
   "cell_type": "code",
   "execution_count": 7,
   "id": "acc17823",
   "metadata": {},
   "outputs": [],
   "source": [
    "df.to_csv('data/ontology_merged_data_cleaned_with_tags.csv', index=False)"
   ]
  }
 ],
 "metadata": {
  "kernelspec": {
   "display_name": "Python 3",
   "language": "python",
   "name": "python3"
  },
  "language_info": {
   "codemirror_mode": {
    "name": "ipython",
    "version": 3
   },
   "file_extension": ".py",
   "mimetype": "text/x-python",
   "name": "python",
   "nbconvert_exporter": "python",
   "pygments_lexer": "ipython3",
   "version": "3.10.10"
  }
 },
 "nbformat": 4,
 "nbformat_minor": 5
}
